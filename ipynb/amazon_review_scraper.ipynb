{
 "cells": [
  {
   "cell_type": "code",
   "execution_count": 3,
   "id": "dfef7c04",
   "metadata": {
    "scrolled": true
   },
   "outputs": [
    {
     "name": "stdout",
     "output_type": "stream",
     "text": [
      "Collecting requests_html\n",
      "  Using cached requests_html-0.10.0-py3-none-any.whl (13 kB)\n",
      "Requirement already satisfied: requests in /Users/manasi/opt/anaconda3/envs/envmr/lib/python3.11/site-packages (from requests_html) (2.31.0)\n",
      "Collecting pyquery (from requests_html)\n",
      "  Using cached pyquery-2.0.0-py3-none-any.whl (22 kB)\n",
      "Collecting fake-useragent (from requests_html)\n",
      "  Using cached fake_useragent-1.1.3-py3-none-any.whl (50 kB)\n",
      "Collecting parse (from requests_html)\n",
      "  Using cached parse-1.19.1-py2.py3-none-any.whl (18 kB)\n",
      "Requirement already satisfied: bs4 in /Users/manasi/opt/anaconda3/envs/envmr/lib/python3.11/site-packages (from requests_html) (0.0.1)\n",
      "Collecting w3lib (from requests_html)\n",
      "  Using cached w3lib-2.1.1-py3-none-any.whl (21 kB)\n",
      "Collecting pyppeteer>=0.0.14 (from requests_html)\n",
      "  Using cached pyppeteer-1.0.2-py3-none-any.whl (83 kB)\n",
      "Collecting appdirs<2.0.0,>=1.4.3 (from pyppeteer>=0.0.14->requests_html)\n",
      "  Using cached appdirs-1.4.4-py2.py3-none-any.whl (9.6 kB)\n",
      "Requirement already satisfied: certifi>=2021 in /Users/manasi/opt/anaconda3/envs/envmr/lib/python3.11/site-packages (from pyppeteer>=0.0.14->requests_html) (2023.5.7)\n",
      "Requirement already satisfied: importlib-metadata>=1.4 in /Users/manasi/opt/anaconda3/envs/envmr/lib/python3.11/site-packages (from pyppeteer>=0.0.14->requests_html) (6.7.0)\n",
      "Collecting pyee<9.0.0,>=8.1.0 (from pyppeteer>=0.0.14->requests_html)\n",
      "  Using cached pyee-8.2.2-py2.py3-none-any.whl (12 kB)\n",
      "Requirement already satisfied: tqdm<5.0.0,>=4.42.1 in /Users/manasi/opt/anaconda3/envs/envmr/lib/python3.11/site-packages (from pyppeteer>=0.0.14->requests_html) (4.65.0)\n",
      "Collecting urllib3<2.0.0,>=1.25.8 (from pyppeteer>=0.0.14->requests_html)\n",
      "  Using cached urllib3-1.26.16-py2.py3-none-any.whl (143 kB)\n",
      "Collecting websockets<11.0,>=10.0 (from pyppeteer>=0.0.14->requests_html)\n",
      "  Downloading websockets-10.4-cp311-cp311-macosx_10_9_x86_64.whl (97 kB)\n",
      "\u001b[2K     \u001b[90m━━━━━━━━━━━━━━━━━━━━━━━━━━━━━━━━━━━━━━━\u001b[0m \u001b[32m97.9/97.9 kB\u001b[0m \u001b[31m935.4 kB/s\u001b[0m eta \u001b[36m0:00:00\u001b[0m \u001b[36m0:00:01\u001b[0m\n",
      "\u001b[?25hRequirement already satisfied: beautifulsoup4 in /Users/manasi/opt/anaconda3/envs/envmr/lib/python3.11/site-packages (from bs4->requests_html) (4.12.2)\n",
      "Collecting lxml>=2.1 (from pyquery->requests_html)\n",
      "  Downloading lxml-4.9.3-cp311-cp311-macosx_11_0_universal2.whl (8.6 MB)\n",
      "\u001b[2K     \u001b[90m━━━━━━━━━━━━━━━━━━━━━━━━━━━━━━━━━━━━━━━━\u001b[0m \u001b[32m8.6/8.6 MB\u001b[0m \u001b[31m773.0 kB/s\u001b[0m eta \u001b[36m0:00:00\u001b[0m00:01\u001b[0m00:01\u001b[0m\n",
      "\u001b[?25hCollecting cssselect>=1.2.0 (from pyquery->requests_html)\n",
      "  Using cached cssselect-1.2.0-py2.py3-none-any.whl (18 kB)\n",
      "Requirement already satisfied: charset-normalizer<4,>=2 in /Users/manasi/opt/anaconda3/envs/envmr/lib/python3.11/site-packages (from requests->requests_html) (3.1.0)\n",
      "Requirement already satisfied: idna<4,>=2.5 in /Users/manasi/opt/anaconda3/envs/envmr/lib/python3.11/site-packages (from requests->requests_html) (3.4)\n",
      "Requirement already satisfied: zipp>=0.5 in /Users/manasi/opt/anaconda3/envs/envmr/lib/python3.11/site-packages (from importlib-metadata>=1.4->pyppeteer>=0.0.14->requests_html) (3.15.0)\n",
      "Requirement already satisfied: soupsieve>1.2 in /Users/manasi/opt/anaconda3/envs/envmr/lib/python3.11/site-packages (from beautifulsoup4->bs4->requests_html) (2.3.2.post1)\n",
      "Installing collected packages: pyee, parse, fake-useragent, appdirs, websockets, w3lib, urllib3, lxml, cssselect, pyquery, pyppeteer, requests_html\n",
      "  Attempting uninstall: urllib3\n",
      "    Found existing installation: urllib3 2.0.3\n",
      "    Uninstalling urllib3-2.0.3:\n",
      "      Successfully uninstalled urllib3-2.0.3\n",
      "Successfully installed appdirs-1.4.4 cssselect-1.2.0 fake-useragent-1.1.3 lxml-4.9.3 parse-1.19.1 pyee-8.2.2 pyppeteer-1.0.2 pyquery-2.0.0 requests_html-0.10.0 urllib3-1.26.16 w3lib-2.1.1 websockets-10.4\n"
     ]
    }
   ],
   "source": [
    "!pip install requests_html"
   ]
  },
  {
   "cell_type": "code",
   "execution_count": 35,
   "id": "1801e345",
   "metadata": {},
   "outputs": [],
   "source": [
    "import requests_html\n",
    "from requests_html import HTMLSession\n",
    "import json\n",
    "import time"
   ]
  },
  {
   "cell_type": "code",
   "execution_count": 36,
   "id": "92213ee0",
   "metadata": {},
   "outputs": [
    {
     "name": "stdout",
     "output_type": "stream",
     "text": [
      "getting page 1\n"
     ]
    },
    {
     "ename": "AttributeError",
     "evalue": "'NoneType' object has no attribute 'text'",
     "output_type": "error",
     "traceback": [
      "\u001b[0;31m---------------------------------------------------------------------------\u001b[0m",
      "\u001b[0;31mAttributeError\u001b[0m                            Traceback (most recent call last)",
      "Cell \u001b[0;32mIn[36], line 44\u001b[0m\n\u001b[1;32m     42\u001b[0m         \u001b[38;5;28mprint\u001b[39m(\u001b[38;5;124m'\u001b[39m\u001b[38;5;124mno more pages\u001b[39m\u001b[38;5;124m'\u001b[39m)\n\u001b[1;32m     43\u001b[0m         \u001b[38;5;28;01mbreak\u001b[39;00m\n\u001b[0;32m---> 44\u001b[0m     results\u001b[38;5;241m.\u001b[39mappend(\u001b[43mamz\u001b[49m\u001b[38;5;241;43m.\u001b[39;49m\u001b[43mparse\u001b[49m\u001b[43m(\u001b[49m\u001b[43mreviews\u001b[49m\u001b[43m)\u001b[49m)\n\u001b[1;32m     45\u001b[0m amz\u001b[38;5;241m.\u001b[39msave(results)\n",
      "Cell \u001b[0;32mIn[36], line 18\u001b[0m, in \u001b[0;36mReviews.parse\u001b[0;34m(self, reviews)\u001b[0m\n\u001b[1;32m     16\u001b[0m total \u001b[38;5;241m=\u001b[39m []\n\u001b[1;32m     17\u001b[0m \u001b[38;5;28;01mfor\u001b[39;00m review \u001b[38;5;129;01min\u001b[39;00m reviews:\n\u001b[0;32m---> 18\u001b[0m     title \u001b[38;5;241m=\u001b[39m \u001b[43mreview\u001b[49m\u001b[38;5;241;43m.\u001b[39;49m\u001b[43mfind\u001b[49m\u001b[43m(\u001b[49m\u001b[38;5;124;43m'\u001b[39;49m\u001b[38;5;124;43ma[data-hook=review-title]\u001b[39;49m\u001b[38;5;124;43m'\u001b[39;49m\u001b[43m,\u001b[49m\u001b[43m \u001b[49m\u001b[43mfirst\u001b[49m\u001b[38;5;241;43m=\u001b[39;49m\u001b[38;5;28;43;01mTrue\u001b[39;49;00m\u001b[43m)\u001b[49m\u001b[38;5;241;43m.\u001b[39;49m\u001b[43mtext\u001b[49m\n\u001b[1;32m     19\u001b[0m     rating \u001b[38;5;241m=\u001b[39m review\u001b[38;5;241m.\u001b[39mfind(\u001b[38;5;124m'\u001b[39m\u001b[38;5;124mi[data-hook=review-star-rating] span\u001b[39m\u001b[38;5;124m'\u001b[39m, first\u001b[38;5;241m=\u001b[39m\u001b[38;5;28;01mTrue\u001b[39;00m)\u001b[38;5;241m.\u001b[39mtext\n\u001b[1;32m     20\u001b[0m     body \u001b[38;5;241m=\u001b[39m review\u001b[38;5;241m.\u001b[39mfind(\u001b[38;5;124m'\u001b[39m\u001b[38;5;124mspan[data-hook=review-body] span\u001b[39m\u001b[38;5;124m'\u001b[39m, first\u001b[38;5;241m=\u001b[39m\u001b[38;5;28;01mTrue\u001b[39;00m)\u001b[38;5;241m.\u001b[39mtext\u001b[38;5;241m.\u001b[39mreplace(\u001b[38;5;124m'\u001b[39m\u001b[38;5;130;01m\\n\u001b[39;00m\u001b[38;5;124m'\u001b[39m,\u001b[38;5;124m'\u001b[39m\u001b[38;5;124m'\u001b[39m)\u001b[38;5;241m.\u001b[39mstrip()\n",
      "\u001b[0;31mAttributeError\u001b[0m: 'NoneType' object has no attribute 'text'"
     ]
    }
   ],
   "source": [
    "class Reviews:\n",
    "    def __init__(self, asin) -> None:\n",
    "        self.asin = asin\n",
    "        self.session = HTMLSession()\n",
    "        self.headers = {'User-Agent': 'Mozilla/5.0 (Macintosh; Intel Mac OS X 10_15_7) AppleWebKit/537.36 (KHTML, like Gecko) Chrome/113.0.0.0 Safari/537.36'}\n",
    "        self.url = f'https://www.amazon.co.uk/product-reviews/{self.asin}/ref=cm_cr_getr_d_show_all?ie=UTF8&reviewerType=all_reviews&tag=local02-21&sortBy=recent&pageNumber='\n",
    "\n",
    "    def pagination(self, page):\n",
    "        r = self.session.get(self.url + str(page))\n",
    "        if not r.html.find('div[data-hook=review]'):\n",
    "            return False\n",
    "        else:\n",
    "            return r.html.find('div[data-hook=review]')\n",
    "\n",
    "    def parse(self, reviews):\n",
    "        total = []\n",
    "        for review in reviews:\n",
    "            title = review.find('a[data-hook=review-title]', first=True).text\n",
    "            rating = review.find('i[data-hook=review-star-rating] span', first=True).text\n",
    "            body = review.find('span[data-hook=review-body] span', first=True).text.replace('\\n','').strip()\n",
    "\n",
    "            data = {\n",
    "                'title': title,\n",
    "                'rating': rating,\n",
    "                'body': body[:1000]\n",
    "            }\n",
    "            total.append(data)\n",
    "        return total\n",
    "    \n",
    "    def save(self,results):\n",
    "        with open(self.asin + '-reviews.json', 'w') as f:\n",
    "            json.dump(results,f)\n",
    "\n",
    "if __name__ == '__main__':\n",
    "    amz = Reviews('1316623858')\n",
    "    results = []\n",
    "    for x in range(1,5):\n",
    "        print('getting page', x)\n",
    "        time.sleep(0.3)\n",
    "        reviews = amz.pagination(x)\n",
    "        if not reviews:\n",
    "            print('no more pages')\n",
    "            break\n",
    "        results.append(amz.parse(reviews))\n",
    "    amz.save(results)"
   ]
  }
 ],
 "metadata": {
  "kernelspec": {
   "display_name": "Python 3 (ipykernel)",
   "language": "python",
   "name": "python3"
  },
  "language_info": {
   "codemirror_mode": {
    "name": "ipython",
    "version": 3
   },
   "file_extension": ".py",
   "mimetype": "text/x-python",
   "name": "python",
   "nbconvert_exporter": "python",
   "pygments_lexer": "ipython3",
   "version": "3.11.4"
  }
 },
 "nbformat": 4,
 "nbformat_minor": 5
}
